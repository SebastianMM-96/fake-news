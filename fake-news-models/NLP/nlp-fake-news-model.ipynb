{
  "nbformat": 4,
  "nbformat_minor": 0,
  "metadata": {
    "colab": {
      "name": "FakeNews-NLP.ipynb",
      "provenance": [],
      "collapsed_sections": [],
      "toc_visible": true,
      "mount_file_id": "1YN3JLMXDEO0LDMEatz4Z_IQTmh2EBjlt",
      "authorship_tag": "ABX9TyOCFxpfD7V495660QGs+7X/",
      "include_colab_link": true
    },
    "kernelspec": {
      "name": "python3",
      "display_name": "Python 3"
    }
  },
  "cells": [
    {
      "cell_type": "markdown",
      "metadata": {
        "id": "view-in-github",
        "colab_type": "text"
      },
      "source": [
        "<a href=\"https://colab.research.google.com/github/SebastianMM-96/fake-news/blob/main/fakeNewsModels/NLP/nlp-fake-news-model.ipynb\" target=\"_parent\"><img src=\"https://colab.research.google.com/assets/colab-badge.svg\" alt=\"Open In Colab\"/></a>"
      ]
    },
    {
      "cell_type": "markdown",
      "metadata": {
        "id": "nBV9XBcQl3T3"
      },
      "source": [
        "# Fake News Classifier | NLP & Supervised Learning\r\n",
        "#### Developed by: Sebastián Marroquín"
      ]
    },
    {
      "cell_type": "markdown",
      "metadata": {
        "id": "2pjW9JBgmkE1"
      },
      "source": [
        "### 1. Importando las librerias necesarias"
      ]
    },
    {
      "cell_type": "code",
      "metadata": {
        "id": "mjrWGXmI1yTZ"
      },
      "source": [
        "# Librerias basicas\r\n",
        "import pandas as pd\r\n",
        "import numpy as np\r\n",
        "import itertools\r\n",
        "import pickle\r\n",
        "\r\n",
        "# Librerias para graficar\r\n",
        "import matplotlib.pyplot as plt\r\n",
        "import seaborn as sns\r\n",
        "\r\n",
        "# Scikit-Learn\r\n",
        "from sklearn.metrics import confusion_matrix, classification_report, accuracy_score\r\n",
        "from sklearn.feature_extraction.text import TfidfVectorizer, CountVectorizer\r\n",
        "from sklearn.pipeline import Pipeline\r\n",
        "from sklearn.model_selection import train_test_split\r\n",
        "from sklearn.model_selection import KFold\r\n",
        "\r\n",
        "# Modelos que utilizaremos\r\n",
        "from sklearn.linear_model import PassiveAggressiveClassifier\r\n",
        "from sklearn.naive_bayes import MultinomialNB"
      ],
      "execution_count": 1,
      "outputs": []
    },
    {
      "cell_type": "markdown",
      "metadata": {
        "id": "YHFpsMTVoD08"
      },
      "source": [
        "### 2. Cargando el conjunto de datos"
      ]
    },
    {
      "cell_type": "code",
      "metadata": {
        "id": "3k1sI1BdoCq6"
      },
      "source": [
        "# Cargar el conjunto de datos dentro de un dataframe\r\n",
        "data = pd.read_csv('/content/drive/MyDrive/fake-news-datasets/Datacamp/fake_or_real_news.csv')"
      ],
      "execution_count": 2,
      "outputs": []
    },
    {
      "cell_type": "markdown",
      "metadata": {
        "id": "Q3ZH5GmDohJM"
      },
      "source": [
        "#### 2.1 Inspección del conjunto de datos"
      ]
    },
    {
      "cell_type": "code",
      "metadata": {
        "colab": {
          "base_uri": "https://localhost:8080/",
          "height": 359
        },
        "id": "-iDVcfcKoga8",
        "outputId": "0968e89c-56a0-4d3d-c4a6-d1cf6dd11b03"
      },
      "source": [
        "data.sample(10)"
      ],
      "execution_count": 3,
      "outputs": [
        {
          "output_type": "execute_result",
          "data": {
            "text/html": [
              "<div>\n",
              "<style scoped>\n",
              "    .dataframe tbody tr th:only-of-type {\n",
              "        vertical-align: middle;\n",
              "    }\n",
              "\n",
              "    .dataframe tbody tr th {\n",
              "        vertical-align: top;\n",
              "    }\n",
              "\n",
              "    .dataframe thead th {\n",
              "        text-align: right;\n",
              "    }\n",
              "</style>\n",
              "<table border=\"1\" class=\"dataframe\">\n",
              "  <thead>\n",
              "    <tr style=\"text-align: right;\">\n",
              "      <th></th>\n",
              "      <th>Unnamed: 0</th>\n",
              "      <th>title</th>\n",
              "      <th>text</th>\n",
              "      <th>label</th>\n",
              "    </tr>\n",
              "  </thead>\n",
              "  <tbody>\n",
              "    <tr>\n",
              "      <th>6114</th>\n",
              "      <td>6741</td>\n",
              "      <td>Clinton Staffer Caught Sacrificing Baby to Dem...</td>\n",
              "      <td>\\r\\nAccording to a new Wikileaks email leak , ...</td>\n",
              "      <td>FAKE</td>\n",
              "    </tr>\n",
              "    <tr>\n",
              "      <th>1954</th>\n",
              "      <td>4544</td>\n",
              "      <td>Loretta Lynch becomes first African-American w...</td>\n",
              "      <td>Washington (CNN) Loretta Lynch was sworn in as...</td>\n",
              "      <td>REAL</td>\n",
              "    </tr>\n",
              "    <tr>\n",
              "      <th>3854</th>\n",
              "      <td>6844</td>\n",
              "      <td>Behind Hillary’s DISGUSTING Plot To Sabotage B...</td>\n",
              "      <td>We all know by now that the Clinton campaign w...</td>\n",
              "      <td>FAKE</td>\n",
              "    </tr>\n",
              "    <tr>\n",
              "      <th>5382</th>\n",
              "      <td>3172</td>\n",
              "      <td>The Libertarian Moment Is So Over That Liberta...</td>\n",
              "      <td>Yeah, yeah, with the rise of Der Trumper and t...</td>\n",
              "      <td>REAL</td>\n",
              "    </tr>\n",
              "    <tr>\n",
              "      <th>987</th>\n",
              "      <td>1556</td>\n",
              "      <td>Why the Ted Cruz-Marco Rubio debate mattered m...</td>\n",
              "      <td>Ted Cruz and Marco Rubio, both rising in the p...</td>\n",
              "      <td>REAL</td>\n",
              "    </tr>\n",
              "    <tr>\n",
              "      <th>2773</th>\n",
              "      <td>3781</td>\n",
              "      <td>The feds probably won't dismantle the Ferguson...</td>\n",
              "      <td>Attorney General Eric Holder said Friday he wa...</td>\n",
              "      <td>REAL</td>\n",
              "    </tr>\n",
              "    <tr>\n",
              "      <th>5932</th>\n",
              "      <td>2494</td>\n",
              "      <td>Sanders, Clinton talk immigration, battle for ...</td>\n",
              "      <td>Democratic presidential candidates Hillary Cli...</td>\n",
              "      <td>REAL</td>\n",
              "    </tr>\n",
              "    <tr>\n",
              "      <th>3413</th>\n",
              "      <td>9955</td>\n",
              "      <td>Putin Warns “US Has Pushed Russia Back Into Nu...</td>\n",
              "      <td>( ZHE ) Having unveiled the first images of it...</td>\n",
              "      <td>FAKE</td>\n",
              "    </tr>\n",
              "    <tr>\n",
              "      <th>884</th>\n",
              "      <td>5502</td>\n",
              "      <td>Russian pianist Denis Matsuev terrorized in US...</td>\n",
              "      <td>Russian pianist Denis Matsuev terrorized in US...</td>\n",
              "      <td>FAKE</td>\n",
              "    </tr>\n",
              "    <tr>\n",
              "      <th>775</th>\n",
              "      <td>5083</td>\n",
              "      <td>Hillary Clinton Promises Steady Leadership, Mo...</td>\n",
              "      <td>Twenty four years ago Hillary Clinton walked o...</td>\n",
              "      <td>REAL</td>\n",
              "    </tr>\n",
              "  </tbody>\n",
              "</table>\n",
              "</div>"
            ],
            "text/plain": [
              "      Unnamed: 0  ... label\n",
              "6114        6741  ...  FAKE\n",
              "1954        4544  ...  REAL\n",
              "3854        6844  ...  FAKE\n",
              "5382        3172  ...  REAL\n",
              "987         1556  ...  REAL\n",
              "2773        3781  ...  REAL\n",
              "5932        2494  ...  REAL\n",
              "3413        9955  ...  FAKE\n",
              "884         5502  ...  FAKE\n",
              "775         5083  ...  REAL\n",
              "\n",
              "[10 rows x 4 columns]"
            ]
          },
          "metadata": {
            "tags": []
          },
          "execution_count": 3
        }
      ]
    },
    {
      "cell_type": "markdown",
      "metadata": {
        "id": "EtVogktSoyEk"
      },
      "source": [
        "Verificaremos la integridad de los datos, esto si es que dentro del conjunto de datos existen valores que puedan estar perdidos ó que sean nulos"
      ]
    },
    {
      "cell_type": "code",
      "metadata": {
        "colab": {
          "base_uri": "https://localhost:8080/"
        },
        "id": "0gLs28WvowZP",
        "outputId": "a7a090ff-c3ea-480c-8b1a-37e6dd6fce2f"
      },
      "source": [
        "data.isnull().sum()"
      ],
      "execution_count": 4,
      "outputs": [
        {
          "output_type": "execute_result",
          "data": {
            "text/plain": [
              "Unnamed: 0    0\n",
              "title         0\n",
              "text          0\n",
              "label         0\n",
              "dtype: int64"
            ]
          },
          "metadata": {
            "tags": []
          },
          "execution_count": 4
        }
      ]
    },
    {
      "cell_type": "code",
      "metadata": {
        "colab": {
          "base_uri": "https://localhost:8080/"
        },
        "id": "VQ56aowgoYG9",
        "outputId": "065d90be-d695-41ec-eb49-79c60964f9c5"
      },
      "source": [
        "data.info()"
      ],
      "execution_count": 5,
      "outputs": [
        {
          "output_type": "stream",
          "text": [
            "<class 'pandas.core.frame.DataFrame'>\n",
            "RangeIndex: 6335 entries, 0 to 6334\n",
            "Data columns (total 4 columns):\n",
            " #   Column      Non-Null Count  Dtype \n",
            "---  ------      --------------  ----- \n",
            " 0   Unnamed: 0  6335 non-null   int64 \n",
            " 1   title       6335 non-null   object\n",
            " 2   text        6335 non-null   object\n",
            " 3   label       6335 non-null   object\n",
            "dtypes: int64(1), object(3)\n",
            "memory usage: 198.1+ KB\n"
          ],
          "name": "stdout"
        }
      ]
    },
    {
      "cell_type": "markdown",
      "metadata": {
        "id": "2FBvmEtRpPvD"
      },
      "source": [
        "De lo anterior sabemos que los datos se encuentran en buen estado, por lo que podemos continuar."
      ]
    },
    {
      "cell_type": "markdown",
      "metadata": {
        "id": "4AenqNfkpph4"
      },
      "source": [
        "### 3. Trabajando con los datos\r\n",
        "A continuación vamos a separar las etiquetas del conjunto de datos y lo asignaremos dentro de una variable, ademas prepararemos nuestros conjuntos de **entrenamiento** y de **pruebas**."
      ]
    },
    {
      "cell_type": "code",
      "metadata": {
        "id": "b3A_ywsZpNtl"
      },
      "source": [
        "# Guardamos dentro de labels las etiquetas del conjunto de datos\r\n",
        "labels = data.label"
      ],
      "execution_count": 6,
      "outputs": []
    },
    {
      "cell_type": "code",
      "metadata": {
        "colab": {
          "base_uri": "https://localhost:8080/"
        },
        "id": "pgLyEznaqN4L",
        "outputId": "13f619ff-ea8a-416b-f1b7-adbebbb3eed5"
      },
      "source": [
        "labels.sample(10)"
      ],
      "execution_count": 7,
      "outputs": [
        {
          "output_type": "execute_result",
          "data": {
            "text/plain": [
              "2310    FAKE\n",
              "235     FAKE\n",
              "869     REAL\n",
              "158     REAL\n",
              "5295    REAL\n",
              "202     REAL\n",
              "6122    FAKE\n",
              "105     REAL\n",
              "1725    FAKE\n",
              "4515    FAKE\n",
              "Name: label, dtype: object"
            ]
          },
          "metadata": {
            "tags": []
          },
          "execution_count": 7
        }
      ]
    },
    {
      "cell_type": "code",
      "metadata": {
        "colab": {
          "base_uri": "https://localhost:8080/",
          "height": 419
        },
        "id": "mtSnxKpQqPlt",
        "outputId": "0a4d8209-68c8-4d30-c1f2-5a9d2cd4da21"
      },
      "source": [
        "# Eliminaremos del conjunto de datos la columna 'label'\r\n",
        "data.drop('label', axis=1)"
      ],
      "execution_count": 8,
      "outputs": [
        {
          "output_type": "execute_result",
          "data": {
            "text/html": [
              "<div>\n",
              "<style scoped>\n",
              "    .dataframe tbody tr th:only-of-type {\n",
              "        vertical-align: middle;\n",
              "    }\n",
              "\n",
              "    .dataframe tbody tr th {\n",
              "        vertical-align: top;\n",
              "    }\n",
              "\n",
              "    .dataframe thead th {\n",
              "        text-align: right;\n",
              "    }\n",
              "</style>\n",
              "<table border=\"1\" class=\"dataframe\">\n",
              "  <thead>\n",
              "    <tr style=\"text-align: right;\">\n",
              "      <th></th>\n",
              "      <th>Unnamed: 0</th>\n",
              "      <th>title</th>\n",
              "      <th>text</th>\n",
              "    </tr>\n",
              "  </thead>\n",
              "  <tbody>\n",
              "    <tr>\n",
              "      <th>0</th>\n",
              "      <td>8476</td>\n",
              "      <td>You Can Smell Hillary’s Fear</td>\n",
              "      <td>Daniel Greenfield, a Shillman Journalism Fello...</td>\n",
              "    </tr>\n",
              "    <tr>\n",
              "      <th>1</th>\n",
              "      <td>10294</td>\n",
              "      <td>Watch The Exact Moment Paul Ryan Committed Pol...</td>\n",
              "      <td>Google Pinterest Digg Linkedin Reddit Stumbleu...</td>\n",
              "    </tr>\n",
              "    <tr>\n",
              "      <th>2</th>\n",
              "      <td>3608</td>\n",
              "      <td>Kerry to go to Paris in gesture of sympathy</td>\n",
              "      <td>U.S. Secretary of State John F. Kerry said Mon...</td>\n",
              "    </tr>\n",
              "    <tr>\n",
              "      <th>3</th>\n",
              "      <td>10142</td>\n",
              "      <td>Bernie supporters on Twitter erupt in anger ag...</td>\n",
              "      <td>— Kaydee King (@KaydeeKing) November 9, 2016 T...</td>\n",
              "    </tr>\n",
              "    <tr>\n",
              "      <th>4</th>\n",
              "      <td>875</td>\n",
              "      <td>The Battle of New York: Why This Primary Matters</td>\n",
              "      <td>It's primary day in New York and front-runners...</td>\n",
              "    </tr>\n",
              "    <tr>\n",
              "      <th>...</th>\n",
              "      <td>...</td>\n",
              "      <td>...</td>\n",
              "      <td>...</td>\n",
              "    </tr>\n",
              "    <tr>\n",
              "      <th>6330</th>\n",
              "      <td>4490</td>\n",
              "      <td>State Department says it can't find emails fro...</td>\n",
              "      <td>The State Department told the Republican Natio...</td>\n",
              "    </tr>\n",
              "    <tr>\n",
              "      <th>6331</th>\n",
              "      <td>8062</td>\n",
              "      <td>The ‘P’ in PBS Should Stand for ‘Plutocratic’ ...</td>\n",
              "      <td>The ‘P’ in PBS Should Stand for ‘Plutocratic’ ...</td>\n",
              "    </tr>\n",
              "    <tr>\n",
              "      <th>6332</th>\n",
              "      <td>8622</td>\n",
              "      <td>Anti-Trump Protesters Are Tools of the Oligarc...</td>\n",
              "      <td>Anti-Trump Protesters Are Tools of the Oligar...</td>\n",
              "    </tr>\n",
              "    <tr>\n",
              "      <th>6333</th>\n",
              "      <td>4021</td>\n",
              "      <td>In Ethiopia, Obama seeks progress on peace, se...</td>\n",
              "      <td>ADDIS ABABA, Ethiopia —President Obama convene...</td>\n",
              "    </tr>\n",
              "    <tr>\n",
              "      <th>6334</th>\n",
              "      <td>4330</td>\n",
              "      <td>Jeb Bush Is Suddenly Attacking Trump. Here's W...</td>\n",
              "      <td>Jeb Bush Is Suddenly Attacking Trump. Here's W...</td>\n",
              "    </tr>\n",
              "  </tbody>\n",
              "</table>\n",
              "<p>6335 rows × 3 columns</p>\n",
              "</div>"
            ],
            "text/plain": [
              "      Unnamed: 0  ...                                               text\n",
              "0           8476  ...  Daniel Greenfield, a Shillman Journalism Fello...\n",
              "1          10294  ...  Google Pinterest Digg Linkedin Reddit Stumbleu...\n",
              "2           3608  ...  U.S. Secretary of State John F. Kerry said Mon...\n",
              "3          10142  ...  — Kaydee King (@KaydeeKing) November 9, 2016 T...\n",
              "4            875  ...  It's primary day in New York and front-runners...\n",
              "...          ...  ...                                                ...\n",
              "6330        4490  ...  The State Department told the Republican Natio...\n",
              "6331        8062  ...  The ‘P’ in PBS Should Stand for ‘Plutocratic’ ...\n",
              "6332        8622  ...   Anti-Trump Protesters Are Tools of the Oligar...\n",
              "6333        4021  ...  ADDIS ABABA, Ethiopia —President Obama convene...\n",
              "6334        4330  ...  Jeb Bush Is Suddenly Attacking Trump. Here's W...\n",
              "\n",
              "[6335 rows x 3 columns]"
            ]
          },
          "metadata": {
            "tags": []
          },
          "execution_count": 8
        }
      ]
    },
    {
      "cell_type": "markdown",
      "metadata": {
        "id": "sF3niAgIqcHA"
      },
      "source": [
        "#### 3.1 Preparando los conjuntos: Entrenamiento | Prueba"
      ]
    },
    {
      "cell_type": "code",
      "metadata": {
        "id": "e1Qxx5G7qYar"
      },
      "source": [
        "# Dividiremos nuestro conjunto de datos a un 33% \r\n",
        "X_train, X_test, y_train, y_test = train_test_split(data['text'], \r\n",
        "                                                    labels, test_size=0.33, \r\n",
        "                                                    random_state=53)"
      ],
      "execution_count": 9,
      "outputs": []
    },
    {
      "cell_type": "markdown",
      "metadata": {
        "id": "_iQ69NtSsFlE"
      },
      "source": [
        "### 4. Extracción de características (o vectorización)\r\n",
        "\r\n",
        "Para utilizar los datos textuales dentro de un modelo de predicción, debemos de analizar el texto para eliminar ciertas palabras, a este proceso se le conoce como **tokenización**. Las palabras pueden codificarse como valores de tipo entero ó de punto flotante para ser utilizadas como entradas en nuestro modelo de predicción. Analizaremos dos de estas técnicas a continuación. "
      ]
    },
    {
      "cell_type": "markdown",
      "metadata": {
        "id": "v8fJwiWE5-V3"
      },
      "source": [
        "#### 4.1 Count Vectorizer\r\n",
        "\r\n",
        "Este algoritmo se utiliza para convertir una colección de documentos de texto en un vector de *tokens*. El algoritmo es útil cuando cuando tenemos varios textos de este tipo y deseamos convertir cada palabra de cada texto en vectores. "
      ]
    },
    {
      "cell_type": "markdown",
      "metadata": {
        "id": "wnt51skC5-jv"
      },
      "source": [
        "#### 4.2 Tf-idf\r\n",
        "Tf-idf es una abreviación para *Term Frequency - Inverse Document Frequency*.\r\n",
        "\r\n",
        "Este algoritmo nos permite determinar las palabaras más importantes de un documento, en este caso el texto de la noticia que contiene nuestro conjunto de datos. Estas palabras deben ponderarse negativamente en importancia.\r\n",
        "\r\n",
        "##### 4.2.1 Formula del Tf-idf\r\n",
        "\r\n",
        "$$w_{i,j}= tf_{i,j} * log(\\frac{N}{df_{i}})$$\r\n",
        "\r\n",
        "Donde:\r\n",
        "\r\n",
        "*   $w_{i,j}$: peso del token $i$ del Tf-idf en el documento $j$ \r\n",
        "*   $tf_{i,j}$: número de occurrencias del token $i$ dentro del documento $j$\r\n",
        "*   $df_{i}$: número de documentos que contienen el token $i$\r\n",
        "*   $N$: número total de documentos"
      ]
    },
    {
      "cell_type": "code",
      "metadata": {
        "id": "1SJ1YbM6qzUI"
      },
      "source": [
        "# Inicializaremos el CountVectorizer\r\n",
        "countVec = CountVectorizer(stop_words='english')\r\n",
        "\r\n",
        "# Ajustaremos el algoritmo al conjunto de entrenamiento\r\n",
        "countTrain = countVec.fit_transform(X_train)\r\n",
        "\r\n",
        "# Transformaremos el conjunto de prueba a nuestro algoritmo\r\n",
        "countTest = countVec.transform(X_test)"
      ],
      "execution_count": 10,
      "outputs": []
    },
    {
      "cell_type": "code",
      "metadata": {
        "id": "WWVaTkwow6db"
      },
      "source": [
        "  # Inicializaremos el Tf-idf a un 70% del conjunto de datos\r\n",
        "tfidfVec = TfidfVectorizer(stop_words='english', max_df=0.7)\r\n",
        "\r\n",
        "# Ajustaremos el algoritmo a nuestro conjunto de entrenamiento\r\n",
        "tfidfVec.fit_transform(X_train)\r\n",
        "\r\n",
        "# Transformaremos el conjunto de prueba a nuestro algoritmo \r\n",
        "tfidfTest = tfidfVec.transform(X_test)"
      ],
      "execution_count": 11,
      "outputs": []
    },
    {
      "cell_type": "markdown",
      "metadata": {
        "id": "m746C_d59Bow"
      },
      "source": [
        "#### 4.3 Información obtenida de los algoritmos"
      ]
    },
    {
      "cell_type": "code",
      "metadata": {
        "id": "jWWv9sn_yFYC",
        "colab": {
          "base_uri": "https://localhost:8080/"
        },
        "outputId": "cb82a1b7-b251-4073-e629-311114ce0fd7"
      },
      "source": [
        "print(\"Tf-idf: {}\".format(tfidfVec.get_feature_names()[-10:]))"
      ],
      "execution_count": 12,
      "outputs": [
        {
          "output_type": "stream",
          "text": [
            "Tf-idf: ['حلب', 'عربي', 'عن', 'لم', 'ما', 'محاولات', 'من', 'هذا', 'والمرضى', 'ยงade']\n"
          ],
          "name": "stdout"
        }
      ]
    },
    {
      "cell_type": "code",
      "metadata": {
        "colab": {
          "base_uri": "https://localhost:8080/"
        },
        "id": "avczZi6z9TqP",
        "outputId": "f65013da-8209-4601-f24e-5d23cdc2357c"
      },
      "source": [
        "print(\"CountVectorizer: {}\".format(countVec.get_feature_names()[-10:]))"
      ],
      "execution_count": 13,
      "outputs": [
        {
          "output_type": "stream",
          "text": [
            "CountVectorizer: ['حلب', 'عربي', 'عن', 'لم', 'ما', 'محاولات', 'من', 'هذا', 'والمرضى', 'ยงade']\n"
          ],
          "name": "stdout"
        }
      ]
    },
    {
      "cell_type": "code",
      "metadata": {
        "colab": {
          "base_uri": "https://localhost:8080/"
        },
        "id": "m6XlKDlx9Y3w",
        "outputId": "1e1b2136-1fca-418b-859b-af5bab302380"
      },
      "source": [
        "countDF = pd.DataFrame(countTrain.A, columns=countVec.get_feature_names())\r\n",
        "tfidfDF = pd.DataFrame(countTrain.A, columns=countVec.get_feature_names())\r\n",
        "\r\n",
        "diff = set(countDF.columns) - set(tfidfDF.columns)\r\n",
        "\r\n",
        "print(diff)"
      ],
      "execution_count": 14,
      "outputs": [
        {
          "output_type": "stream",
          "text": [
            "set()\n"
          ],
          "name": "stdout"
        }
      ]
    },
    {
      "cell_type": "code",
      "metadata": {
        "colab": {
          "base_uri": "https://localhost:8080/"
        },
        "id": "ZuBg5kaI-Kz_",
        "outputId": "3fb3507e-332f-4ef5-820d-5894de35715d"
      },
      "source": [
        "# Verificaremos si los dataframes son iguales\r\n",
        "print(countDF.equals(tfidfDF))"
      ],
      "execution_count": 15,
      "outputs": [
        {
          "output_type": "stream",
          "text": [
            "True\n"
          ],
          "name": "stdout"
        }
      ]
    },
    {
      "cell_type": "code",
      "metadata": {
        "colab": {
          "base_uri": "https://localhost:8080/",
          "height": 253
        },
        "id": "IbW-UIQw-Y38",
        "outputId": "cb3db9e0-1e78-4b06-f5d4-fc4eab59104b"
      },
      "source": [
        "countDF.head()"
      ],
      "execution_count": 16,
      "outputs": [
        {
          "output_type": "execute_result",
          "data": {
            "text/html": [
              "<div>\n",
              "<style scoped>\n",
              "    .dataframe tbody tr th:only-of-type {\n",
              "        vertical-align: middle;\n",
              "    }\n",
              "\n",
              "    .dataframe tbody tr th {\n",
              "        vertical-align: top;\n",
              "    }\n",
              "\n",
              "    .dataframe thead th {\n",
              "        text-align: right;\n",
              "    }\n",
              "</style>\n",
              "<table border=\"1\" class=\"dataframe\">\n",
              "  <thead>\n",
              "    <tr style=\"text-align: right;\">\n",
              "      <th></th>\n",
              "      <th>00</th>\n",
              "      <th>000</th>\n",
              "      <th>0000</th>\n",
              "      <th>00000031</th>\n",
              "      <th>000035</th>\n",
              "      <th>00006</th>\n",
              "      <th>0001</th>\n",
              "      <th>0001pt</th>\n",
              "      <th>000ft</th>\n",
              "      <th>000km</th>\n",
              "      <th>001</th>\n",
              "      <th>0011</th>\n",
              "      <th>002</th>\n",
              "      <th>003</th>\n",
              "      <th>004</th>\n",
              "      <th>006</th>\n",
              "      <th>006s</th>\n",
              "      <th>007</th>\n",
              "      <th>007s</th>\n",
              "      <th>008</th>\n",
              "      <th>008s</th>\n",
              "      <th>009</th>\n",
              "      <th>0099</th>\n",
              "      <th>00am</th>\n",
              "      <th>00p</th>\n",
              "      <th>00pm</th>\n",
              "      <th>01</th>\n",
              "      <th>010</th>\n",
              "      <th>013</th>\n",
              "      <th>014</th>\n",
              "      <th>015</th>\n",
              "      <th>016</th>\n",
              "      <th>018</th>\n",
              "      <th>01am</th>\n",
              "      <th>02</th>\n",
              "      <th>020</th>\n",
              "      <th>022</th>\n",
              "      <th>023</th>\n",
              "      <th>024</th>\n",
              "      <th>025</th>\n",
              "      <th>...</th>\n",
              "      <th>שולטים</th>\n",
              "      <th>שזו</th>\n",
              "      <th>שטחים</th>\n",
              "      <th>שינוי</th>\n",
              "      <th>שיתעקש</th>\n",
              "      <th>שכל</th>\n",
              "      <th>שכמוני</th>\n",
              "      <th>של</th>\n",
              "      <th>שלו</th>\n",
              "      <th>שנדרש</th>\n",
              "      <th>שני</th>\n",
              "      <th>שעת</th>\n",
              "      <th>שתי</th>\n",
              "      <th>תאמצנה</th>\n",
              "      <th>תוצאה</th>\n",
              "      <th>תחל</th>\n",
              "      <th>תיירות</th>\n",
              "      <th>תנותק</th>\n",
              "      <th>תעודת</th>\n",
              "      <th>תתרכז</th>\n",
              "      <th>أن</th>\n",
              "      <th>إجلاء</th>\n",
              "      <th>الأمر</th>\n",
              "      <th>الجرحى</th>\n",
              "      <th>الدولية</th>\n",
              "      <th>القادمون</th>\n",
              "      <th>اللجنة</th>\n",
              "      <th>تحتاج</th>\n",
              "      <th>تعرفه</th>\n",
              "      <th>تنجح</th>\n",
              "      <th>حلب</th>\n",
              "      <th>عربي</th>\n",
              "      <th>عن</th>\n",
              "      <th>لم</th>\n",
              "      <th>ما</th>\n",
              "      <th>محاولات</th>\n",
              "      <th>من</th>\n",
              "      <th>هذا</th>\n",
              "      <th>والمرضى</th>\n",
              "      <th>ยงade</th>\n",
              "    </tr>\n",
              "  </thead>\n",
              "  <tbody>\n",
              "    <tr>\n",
              "      <th>0</th>\n",
              "      <td>0</td>\n",
              "      <td>0</td>\n",
              "      <td>0</td>\n",
              "      <td>0</td>\n",
              "      <td>0</td>\n",
              "      <td>0</td>\n",
              "      <td>0</td>\n",
              "      <td>0</td>\n",
              "      <td>0</td>\n",
              "      <td>0</td>\n",
              "      <td>0</td>\n",
              "      <td>0</td>\n",
              "      <td>0</td>\n",
              "      <td>0</td>\n",
              "      <td>0</td>\n",
              "      <td>0</td>\n",
              "      <td>0</td>\n",
              "      <td>0</td>\n",
              "      <td>0</td>\n",
              "      <td>0</td>\n",
              "      <td>0</td>\n",
              "      <td>0</td>\n",
              "      <td>0</td>\n",
              "      <td>0</td>\n",
              "      <td>0</td>\n",
              "      <td>0</td>\n",
              "      <td>0</td>\n",
              "      <td>0</td>\n",
              "      <td>0</td>\n",
              "      <td>0</td>\n",
              "      <td>0</td>\n",
              "      <td>0</td>\n",
              "      <td>0</td>\n",
              "      <td>0</td>\n",
              "      <td>0</td>\n",
              "      <td>0</td>\n",
              "      <td>0</td>\n",
              "      <td>0</td>\n",
              "      <td>0</td>\n",
              "      <td>0</td>\n",
              "      <td>...</td>\n",
              "      <td>0</td>\n",
              "      <td>0</td>\n",
              "      <td>0</td>\n",
              "      <td>0</td>\n",
              "      <td>0</td>\n",
              "      <td>0</td>\n",
              "      <td>0</td>\n",
              "      <td>0</td>\n",
              "      <td>0</td>\n",
              "      <td>0</td>\n",
              "      <td>0</td>\n",
              "      <td>0</td>\n",
              "      <td>0</td>\n",
              "      <td>0</td>\n",
              "      <td>0</td>\n",
              "      <td>0</td>\n",
              "      <td>0</td>\n",
              "      <td>0</td>\n",
              "      <td>0</td>\n",
              "      <td>0</td>\n",
              "      <td>0</td>\n",
              "      <td>0</td>\n",
              "      <td>0</td>\n",
              "      <td>0</td>\n",
              "      <td>0</td>\n",
              "      <td>0</td>\n",
              "      <td>0</td>\n",
              "      <td>0</td>\n",
              "      <td>0</td>\n",
              "      <td>0</td>\n",
              "      <td>0</td>\n",
              "      <td>0</td>\n",
              "      <td>0</td>\n",
              "      <td>0</td>\n",
              "      <td>0</td>\n",
              "      <td>0</td>\n",
              "      <td>0</td>\n",
              "      <td>0</td>\n",
              "      <td>0</td>\n",
              "      <td>0</td>\n",
              "    </tr>\n",
              "    <tr>\n",
              "      <th>1</th>\n",
              "      <td>0</td>\n",
              "      <td>0</td>\n",
              "      <td>0</td>\n",
              "      <td>0</td>\n",
              "      <td>0</td>\n",
              "      <td>0</td>\n",
              "      <td>0</td>\n",
              "      <td>0</td>\n",
              "      <td>0</td>\n",
              "      <td>0</td>\n",
              "      <td>0</td>\n",
              "      <td>0</td>\n",
              "      <td>0</td>\n",
              "      <td>0</td>\n",
              "      <td>0</td>\n",
              "      <td>0</td>\n",
              "      <td>0</td>\n",
              "      <td>0</td>\n",
              "      <td>0</td>\n",
              "      <td>0</td>\n",
              "      <td>0</td>\n",
              "      <td>0</td>\n",
              "      <td>0</td>\n",
              "      <td>0</td>\n",
              "      <td>0</td>\n",
              "      <td>0</td>\n",
              "      <td>0</td>\n",
              "      <td>0</td>\n",
              "      <td>0</td>\n",
              "      <td>0</td>\n",
              "      <td>0</td>\n",
              "      <td>0</td>\n",
              "      <td>0</td>\n",
              "      <td>0</td>\n",
              "      <td>0</td>\n",
              "      <td>0</td>\n",
              "      <td>0</td>\n",
              "      <td>0</td>\n",
              "      <td>0</td>\n",
              "      <td>0</td>\n",
              "      <td>...</td>\n",
              "      <td>0</td>\n",
              "      <td>0</td>\n",
              "      <td>0</td>\n",
              "      <td>0</td>\n",
              "      <td>0</td>\n",
              "      <td>0</td>\n",
              "      <td>0</td>\n",
              "      <td>0</td>\n",
              "      <td>0</td>\n",
              "      <td>0</td>\n",
              "      <td>0</td>\n",
              "      <td>0</td>\n",
              "      <td>0</td>\n",
              "      <td>0</td>\n",
              "      <td>0</td>\n",
              "      <td>0</td>\n",
              "      <td>0</td>\n",
              "      <td>0</td>\n",
              "      <td>0</td>\n",
              "      <td>0</td>\n",
              "      <td>0</td>\n",
              "      <td>0</td>\n",
              "      <td>0</td>\n",
              "      <td>0</td>\n",
              "      <td>0</td>\n",
              "      <td>0</td>\n",
              "      <td>0</td>\n",
              "      <td>0</td>\n",
              "      <td>0</td>\n",
              "      <td>0</td>\n",
              "      <td>0</td>\n",
              "      <td>0</td>\n",
              "      <td>0</td>\n",
              "      <td>0</td>\n",
              "      <td>0</td>\n",
              "      <td>0</td>\n",
              "      <td>0</td>\n",
              "      <td>0</td>\n",
              "      <td>0</td>\n",
              "      <td>0</td>\n",
              "    </tr>\n",
              "    <tr>\n",
              "      <th>2</th>\n",
              "      <td>0</td>\n",
              "      <td>0</td>\n",
              "      <td>0</td>\n",
              "      <td>0</td>\n",
              "      <td>0</td>\n",
              "      <td>0</td>\n",
              "      <td>0</td>\n",
              "      <td>0</td>\n",
              "      <td>0</td>\n",
              "      <td>0</td>\n",
              "      <td>0</td>\n",
              "      <td>0</td>\n",
              "      <td>0</td>\n",
              "      <td>0</td>\n",
              "      <td>0</td>\n",
              "      <td>0</td>\n",
              "      <td>0</td>\n",
              "      <td>0</td>\n",
              "      <td>0</td>\n",
              "      <td>0</td>\n",
              "      <td>0</td>\n",
              "      <td>0</td>\n",
              "      <td>0</td>\n",
              "      <td>0</td>\n",
              "      <td>0</td>\n",
              "      <td>0</td>\n",
              "      <td>0</td>\n",
              "      <td>0</td>\n",
              "      <td>0</td>\n",
              "      <td>0</td>\n",
              "      <td>0</td>\n",
              "      <td>0</td>\n",
              "      <td>0</td>\n",
              "      <td>0</td>\n",
              "      <td>0</td>\n",
              "      <td>0</td>\n",
              "      <td>0</td>\n",
              "      <td>0</td>\n",
              "      <td>0</td>\n",
              "      <td>0</td>\n",
              "      <td>...</td>\n",
              "      <td>0</td>\n",
              "      <td>0</td>\n",
              "      <td>0</td>\n",
              "      <td>0</td>\n",
              "      <td>0</td>\n",
              "      <td>0</td>\n",
              "      <td>0</td>\n",
              "      <td>0</td>\n",
              "      <td>0</td>\n",
              "      <td>0</td>\n",
              "      <td>0</td>\n",
              "      <td>0</td>\n",
              "      <td>0</td>\n",
              "      <td>0</td>\n",
              "      <td>0</td>\n",
              "      <td>0</td>\n",
              "      <td>0</td>\n",
              "      <td>0</td>\n",
              "      <td>0</td>\n",
              "      <td>0</td>\n",
              "      <td>0</td>\n",
              "      <td>0</td>\n",
              "      <td>0</td>\n",
              "      <td>0</td>\n",
              "      <td>0</td>\n",
              "      <td>0</td>\n",
              "      <td>0</td>\n",
              "      <td>0</td>\n",
              "      <td>0</td>\n",
              "      <td>0</td>\n",
              "      <td>0</td>\n",
              "      <td>0</td>\n",
              "      <td>0</td>\n",
              "      <td>0</td>\n",
              "      <td>0</td>\n",
              "      <td>0</td>\n",
              "      <td>0</td>\n",
              "      <td>0</td>\n",
              "      <td>0</td>\n",
              "      <td>0</td>\n",
              "    </tr>\n",
              "    <tr>\n",
              "      <th>3</th>\n",
              "      <td>0</td>\n",
              "      <td>0</td>\n",
              "      <td>0</td>\n",
              "      <td>0</td>\n",
              "      <td>0</td>\n",
              "      <td>0</td>\n",
              "      <td>0</td>\n",
              "      <td>0</td>\n",
              "      <td>0</td>\n",
              "      <td>0</td>\n",
              "      <td>0</td>\n",
              "      <td>0</td>\n",
              "      <td>0</td>\n",
              "      <td>0</td>\n",
              "      <td>0</td>\n",
              "      <td>0</td>\n",
              "      <td>0</td>\n",
              "      <td>0</td>\n",
              "      <td>0</td>\n",
              "      <td>0</td>\n",
              "      <td>0</td>\n",
              "      <td>0</td>\n",
              "      <td>0</td>\n",
              "      <td>0</td>\n",
              "      <td>0</td>\n",
              "      <td>0</td>\n",
              "      <td>0</td>\n",
              "      <td>0</td>\n",
              "      <td>0</td>\n",
              "      <td>0</td>\n",
              "      <td>0</td>\n",
              "      <td>0</td>\n",
              "      <td>0</td>\n",
              "      <td>0</td>\n",
              "      <td>0</td>\n",
              "      <td>0</td>\n",
              "      <td>0</td>\n",
              "      <td>0</td>\n",
              "      <td>0</td>\n",
              "      <td>0</td>\n",
              "      <td>...</td>\n",
              "      <td>0</td>\n",
              "      <td>0</td>\n",
              "      <td>0</td>\n",
              "      <td>0</td>\n",
              "      <td>0</td>\n",
              "      <td>0</td>\n",
              "      <td>0</td>\n",
              "      <td>0</td>\n",
              "      <td>0</td>\n",
              "      <td>0</td>\n",
              "      <td>0</td>\n",
              "      <td>0</td>\n",
              "      <td>0</td>\n",
              "      <td>0</td>\n",
              "      <td>0</td>\n",
              "      <td>0</td>\n",
              "      <td>0</td>\n",
              "      <td>0</td>\n",
              "      <td>0</td>\n",
              "      <td>0</td>\n",
              "      <td>0</td>\n",
              "      <td>0</td>\n",
              "      <td>0</td>\n",
              "      <td>0</td>\n",
              "      <td>0</td>\n",
              "      <td>0</td>\n",
              "      <td>0</td>\n",
              "      <td>0</td>\n",
              "      <td>0</td>\n",
              "      <td>0</td>\n",
              "      <td>0</td>\n",
              "      <td>0</td>\n",
              "      <td>0</td>\n",
              "      <td>0</td>\n",
              "      <td>0</td>\n",
              "      <td>0</td>\n",
              "      <td>0</td>\n",
              "      <td>0</td>\n",
              "      <td>0</td>\n",
              "      <td>0</td>\n",
              "    </tr>\n",
              "    <tr>\n",
              "      <th>4</th>\n",
              "      <td>0</td>\n",
              "      <td>0</td>\n",
              "      <td>0</td>\n",
              "      <td>0</td>\n",
              "      <td>0</td>\n",
              "      <td>0</td>\n",
              "      <td>0</td>\n",
              "      <td>0</td>\n",
              "      <td>0</td>\n",
              "      <td>0</td>\n",
              "      <td>0</td>\n",
              "      <td>0</td>\n",
              "      <td>0</td>\n",
              "      <td>0</td>\n",
              "      <td>0</td>\n",
              "      <td>0</td>\n",
              "      <td>0</td>\n",
              "      <td>0</td>\n",
              "      <td>0</td>\n",
              "      <td>0</td>\n",
              "      <td>0</td>\n",
              "      <td>0</td>\n",
              "      <td>0</td>\n",
              "      <td>0</td>\n",
              "      <td>0</td>\n",
              "      <td>0</td>\n",
              "      <td>0</td>\n",
              "      <td>0</td>\n",
              "      <td>0</td>\n",
              "      <td>0</td>\n",
              "      <td>0</td>\n",
              "      <td>0</td>\n",
              "      <td>0</td>\n",
              "      <td>0</td>\n",
              "      <td>0</td>\n",
              "      <td>0</td>\n",
              "      <td>0</td>\n",
              "      <td>0</td>\n",
              "      <td>0</td>\n",
              "      <td>0</td>\n",
              "      <td>...</td>\n",
              "      <td>0</td>\n",
              "      <td>0</td>\n",
              "      <td>0</td>\n",
              "      <td>0</td>\n",
              "      <td>0</td>\n",
              "      <td>0</td>\n",
              "      <td>0</td>\n",
              "      <td>0</td>\n",
              "      <td>0</td>\n",
              "      <td>0</td>\n",
              "      <td>0</td>\n",
              "      <td>0</td>\n",
              "      <td>0</td>\n",
              "      <td>0</td>\n",
              "      <td>0</td>\n",
              "      <td>0</td>\n",
              "      <td>0</td>\n",
              "      <td>0</td>\n",
              "      <td>0</td>\n",
              "      <td>0</td>\n",
              "      <td>0</td>\n",
              "      <td>0</td>\n",
              "      <td>0</td>\n",
              "      <td>0</td>\n",
              "      <td>0</td>\n",
              "      <td>0</td>\n",
              "      <td>0</td>\n",
              "      <td>0</td>\n",
              "      <td>0</td>\n",
              "      <td>0</td>\n",
              "      <td>0</td>\n",
              "      <td>0</td>\n",
              "      <td>0</td>\n",
              "      <td>0</td>\n",
              "      <td>0</td>\n",
              "      <td>0</td>\n",
              "      <td>0</td>\n",
              "      <td>0</td>\n",
              "      <td>0</td>\n",
              "      <td>0</td>\n",
              "    </tr>\n",
              "  </tbody>\n",
              "</table>\n",
              "<p>5 rows × 56922 columns</p>\n",
              "</div>"
            ],
            "text/plain": [
              "   00  000  0000  00000031  000035  00006  ...  ما  محاولات  من  هذا  والمرضى  ยงade\n",
              "0   0    0     0         0       0      0  ...   0        0   0    0        0      0\n",
              "1   0    0     0         0       0      0  ...   0        0   0    0        0      0\n",
              "2   0    0     0         0       0      0  ...   0        0   0    0        0      0\n",
              "3   0    0     0         0       0      0  ...   0        0   0    0        0      0\n",
              "4   0    0     0         0       0      0  ...   0        0   0    0        0      0\n",
              "\n",
              "[5 rows x 56922 columns]"
            ]
          },
          "metadata": {
            "tags": []
          },
          "execution_count": 16
        }
      ]
    },
    {
      "cell_type": "code",
      "metadata": {
        "colab": {
          "base_uri": "https://localhost:8080/",
          "height": 253
        },
        "id": "sxL9lIrQ-lcC",
        "outputId": "320a4351-7f69-4ffa-9ea4-ce995b67171b"
      },
      "source": [
        "tfidfDF.head()"
      ],
      "execution_count": 17,
      "outputs": [
        {
          "output_type": "execute_result",
          "data": {
            "text/html": [
              "<div>\n",
              "<style scoped>\n",
              "    .dataframe tbody tr th:only-of-type {\n",
              "        vertical-align: middle;\n",
              "    }\n",
              "\n",
              "    .dataframe tbody tr th {\n",
              "        vertical-align: top;\n",
              "    }\n",
              "\n",
              "    .dataframe thead th {\n",
              "        text-align: right;\n",
              "    }\n",
              "</style>\n",
              "<table border=\"1\" class=\"dataframe\">\n",
              "  <thead>\n",
              "    <tr style=\"text-align: right;\">\n",
              "      <th></th>\n",
              "      <th>00</th>\n",
              "      <th>000</th>\n",
              "      <th>0000</th>\n",
              "      <th>00000031</th>\n",
              "      <th>000035</th>\n",
              "      <th>00006</th>\n",
              "      <th>0001</th>\n",
              "      <th>0001pt</th>\n",
              "      <th>000ft</th>\n",
              "      <th>000km</th>\n",
              "      <th>001</th>\n",
              "      <th>0011</th>\n",
              "      <th>002</th>\n",
              "      <th>003</th>\n",
              "      <th>004</th>\n",
              "      <th>006</th>\n",
              "      <th>006s</th>\n",
              "      <th>007</th>\n",
              "      <th>007s</th>\n",
              "      <th>008</th>\n",
              "      <th>008s</th>\n",
              "      <th>009</th>\n",
              "      <th>0099</th>\n",
              "      <th>00am</th>\n",
              "      <th>00p</th>\n",
              "      <th>00pm</th>\n",
              "      <th>01</th>\n",
              "      <th>010</th>\n",
              "      <th>013</th>\n",
              "      <th>014</th>\n",
              "      <th>015</th>\n",
              "      <th>016</th>\n",
              "      <th>018</th>\n",
              "      <th>01am</th>\n",
              "      <th>02</th>\n",
              "      <th>020</th>\n",
              "      <th>022</th>\n",
              "      <th>023</th>\n",
              "      <th>024</th>\n",
              "      <th>025</th>\n",
              "      <th>...</th>\n",
              "      <th>שולטים</th>\n",
              "      <th>שזו</th>\n",
              "      <th>שטחים</th>\n",
              "      <th>שינוי</th>\n",
              "      <th>שיתעקש</th>\n",
              "      <th>שכל</th>\n",
              "      <th>שכמוני</th>\n",
              "      <th>של</th>\n",
              "      <th>שלו</th>\n",
              "      <th>שנדרש</th>\n",
              "      <th>שני</th>\n",
              "      <th>שעת</th>\n",
              "      <th>שתי</th>\n",
              "      <th>תאמצנה</th>\n",
              "      <th>תוצאה</th>\n",
              "      <th>תחל</th>\n",
              "      <th>תיירות</th>\n",
              "      <th>תנותק</th>\n",
              "      <th>תעודת</th>\n",
              "      <th>תתרכז</th>\n",
              "      <th>أن</th>\n",
              "      <th>إجلاء</th>\n",
              "      <th>الأمر</th>\n",
              "      <th>الجرحى</th>\n",
              "      <th>الدولية</th>\n",
              "      <th>القادمون</th>\n",
              "      <th>اللجنة</th>\n",
              "      <th>تحتاج</th>\n",
              "      <th>تعرفه</th>\n",
              "      <th>تنجح</th>\n",
              "      <th>حلب</th>\n",
              "      <th>عربي</th>\n",
              "      <th>عن</th>\n",
              "      <th>لم</th>\n",
              "      <th>ما</th>\n",
              "      <th>محاولات</th>\n",
              "      <th>من</th>\n",
              "      <th>هذا</th>\n",
              "      <th>والمرضى</th>\n",
              "      <th>ยงade</th>\n",
              "    </tr>\n",
              "  </thead>\n",
              "  <tbody>\n",
              "    <tr>\n",
              "      <th>0</th>\n",
              "      <td>0</td>\n",
              "      <td>0</td>\n",
              "      <td>0</td>\n",
              "      <td>0</td>\n",
              "      <td>0</td>\n",
              "      <td>0</td>\n",
              "      <td>0</td>\n",
              "      <td>0</td>\n",
              "      <td>0</td>\n",
              "      <td>0</td>\n",
              "      <td>0</td>\n",
              "      <td>0</td>\n",
              "      <td>0</td>\n",
              "      <td>0</td>\n",
              "      <td>0</td>\n",
              "      <td>0</td>\n",
              "      <td>0</td>\n",
              "      <td>0</td>\n",
              "      <td>0</td>\n",
              "      <td>0</td>\n",
              "      <td>0</td>\n",
              "      <td>0</td>\n",
              "      <td>0</td>\n",
              "      <td>0</td>\n",
              "      <td>0</td>\n",
              "      <td>0</td>\n",
              "      <td>0</td>\n",
              "      <td>0</td>\n",
              "      <td>0</td>\n",
              "      <td>0</td>\n",
              "      <td>0</td>\n",
              "      <td>0</td>\n",
              "      <td>0</td>\n",
              "      <td>0</td>\n",
              "      <td>0</td>\n",
              "      <td>0</td>\n",
              "      <td>0</td>\n",
              "      <td>0</td>\n",
              "      <td>0</td>\n",
              "      <td>0</td>\n",
              "      <td>...</td>\n",
              "      <td>0</td>\n",
              "      <td>0</td>\n",
              "      <td>0</td>\n",
              "      <td>0</td>\n",
              "      <td>0</td>\n",
              "      <td>0</td>\n",
              "      <td>0</td>\n",
              "      <td>0</td>\n",
              "      <td>0</td>\n",
              "      <td>0</td>\n",
              "      <td>0</td>\n",
              "      <td>0</td>\n",
              "      <td>0</td>\n",
              "      <td>0</td>\n",
              "      <td>0</td>\n",
              "      <td>0</td>\n",
              "      <td>0</td>\n",
              "      <td>0</td>\n",
              "      <td>0</td>\n",
              "      <td>0</td>\n",
              "      <td>0</td>\n",
              "      <td>0</td>\n",
              "      <td>0</td>\n",
              "      <td>0</td>\n",
              "      <td>0</td>\n",
              "      <td>0</td>\n",
              "      <td>0</td>\n",
              "      <td>0</td>\n",
              "      <td>0</td>\n",
              "      <td>0</td>\n",
              "      <td>0</td>\n",
              "      <td>0</td>\n",
              "      <td>0</td>\n",
              "      <td>0</td>\n",
              "      <td>0</td>\n",
              "      <td>0</td>\n",
              "      <td>0</td>\n",
              "      <td>0</td>\n",
              "      <td>0</td>\n",
              "      <td>0</td>\n",
              "    </tr>\n",
              "    <tr>\n",
              "      <th>1</th>\n",
              "      <td>0</td>\n",
              "      <td>0</td>\n",
              "      <td>0</td>\n",
              "      <td>0</td>\n",
              "      <td>0</td>\n",
              "      <td>0</td>\n",
              "      <td>0</td>\n",
              "      <td>0</td>\n",
              "      <td>0</td>\n",
              "      <td>0</td>\n",
              "      <td>0</td>\n",
              "      <td>0</td>\n",
              "      <td>0</td>\n",
              "      <td>0</td>\n",
              "      <td>0</td>\n",
              "      <td>0</td>\n",
              "      <td>0</td>\n",
              "      <td>0</td>\n",
              "      <td>0</td>\n",
              "      <td>0</td>\n",
              "      <td>0</td>\n",
              "      <td>0</td>\n",
              "      <td>0</td>\n",
              "      <td>0</td>\n",
              "      <td>0</td>\n",
              "      <td>0</td>\n",
              "      <td>0</td>\n",
              "      <td>0</td>\n",
              "      <td>0</td>\n",
              "      <td>0</td>\n",
              "      <td>0</td>\n",
              "      <td>0</td>\n",
              "      <td>0</td>\n",
              "      <td>0</td>\n",
              "      <td>0</td>\n",
              "      <td>0</td>\n",
              "      <td>0</td>\n",
              "      <td>0</td>\n",
              "      <td>0</td>\n",
              "      <td>0</td>\n",
              "      <td>...</td>\n",
              "      <td>0</td>\n",
              "      <td>0</td>\n",
              "      <td>0</td>\n",
              "      <td>0</td>\n",
              "      <td>0</td>\n",
              "      <td>0</td>\n",
              "      <td>0</td>\n",
              "      <td>0</td>\n",
              "      <td>0</td>\n",
              "      <td>0</td>\n",
              "      <td>0</td>\n",
              "      <td>0</td>\n",
              "      <td>0</td>\n",
              "      <td>0</td>\n",
              "      <td>0</td>\n",
              "      <td>0</td>\n",
              "      <td>0</td>\n",
              "      <td>0</td>\n",
              "      <td>0</td>\n",
              "      <td>0</td>\n",
              "      <td>0</td>\n",
              "      <td>0</td>\n",
              "      <td>0</td>\n",
              "      <td>0</td>\n",
              "      <td>0</td>\n",
              "      <td>0</td>\n",
              "      <td>0</td>\n",
              "      <td>0</td>\n",
              "      <td>0</td>\n",
              "      <td>0</td>\n",
              "      <td>0</td>\n",
              "      <td>0</td>\n",
              "      <td>0</td>\n",
              "      <td>0</td>\n",
              "      <td>0</td>\n",
              "      <td>0</td>\n",
              "      <td>0</td>\n",
              "      <td>0</td>\n",
              "      <td>0</td>\n",
              "      <td>0</td>\n",
              "    </tr>\n",
              "    <tr>\n",
              "      <th>2</th>\n",
              "      <td>0</td>\n",
              "      <td>0</td>\n",
              "      <td>0</td>\n",
              "      <td>0</td>\n",
              "      <td>0</td>\n",
              "      <td>0</td>\n",
              "      <td>0</td>\n",
              "      <td>0</td>\n",
              "      <td>0</td>\n",
              "      <td>0</td>\n",
              "      <td>0</td>\n",
              "      <td>0</td>\n",
              "      <td>0</td>\n",
              "      <td>0</td>\n",
              "      <td>0</td>\n",
              "      <td>0</td>\n",
              "      <td>0</td>\n",
              "      <td>0</td>\n",
              "      <td>0</td>\n",
              "      <td>0</td>\n",
              "      <td>0</td>\n",
              "      <td>0</td>\n",
              "      <td>0</td>\n",
              "      <td>0</td>\n",
              "      <td>0</td>\n",
              "      <td>0</td>\n",
              "      <td>0</td>\n",
              "      <td>0</td>\n",
              "      <td>0</td>\n",
              "      <td>0</td>\n",
              "      <td>0</td>\n",
              "      <td>0</td>\n",
              "      <td>0</td>\n",
              "      <td>0</td>\n",
              "      <td>0</td>\n",
              "      <td>0</td>\n",
              "      <td>0</td>\n",
              "      <td>0</td>\n",
              "      <td>0</td>\n",
              "      <td>0</td>\n",
              "      <td>...</td>\n",
              "      <td>0</td>\n",
              "      <td>0</td>\n",
              "      <td>0</td>\n",
              "      <td>0</td>\n",
              "      <td>0</td>\n",
              "      <td>0</td>\n",
              "      <td>0</td>\n",
              "      <td>0</td>\n",
              "      <td>0</td>\n",
              "      <td>0</td>\n",
              "      <td>0</td>\n",
              "      <td>0</td>\n",
              "      <td>0</td>\n",
              "      <td>0</td>\n",
              "      <td>0</td>\n",
              "      <td>0</td>\n",
              "      <td>0</td>\n",
              "      <td>0</td>\n",
              "      <td>0</td>\n",
              "      <td>0</td>\n",
              "      <td>0</td>\n",
              "      <td>0</td>\n",
              "      <td>0</td>\n",
              "      <td>0</td>\n",
              "      <td>0</td>\n",
              "      <td>0</td>\n",
              "      <td>0</td>\n",
              "      <td>0</td>\n",
              "      <td>0</td>\n",
              "      <td>0</td>\n",
              "      <td>0</td>\n",
              "      <td>0</td>\n",
              "      <td>0</td>\n",
              "      <td>0</td>\n",
              "      <td>0</td>\n",
              "      <td>0</td>\n",
              "      <td>0</td>\n",
              "      <td>0</td>\n",
              "      <td>0</td>\n",
              "      <td>0</td>\n",
              "    </tr>\n",
              "    <tr>\n",
              "      <th>3</th>\n",
              "      <td>0</td>\n",
              "      <td>0</td>\n",
              "      <td>0</td>\n",
              "      <td>0</td>\n",
              "      <td>0</td>\n",
              "      <td>0</td>\n",
              "      <td>0</td>\n",
              "      <td>0</td>\n",
              "      <td>0</td>\n",
              "      <td>0</td>\n",
              "      <td>0</td>\n",
              "      <td>0</td>\n",
              "      <td>0</td>\n",
              "      <td>0</td>\n",
              "      <td>0</td>\n",
              "      <td>0</td>\n",
              "      <td>0</td>\n",
              "      <td>0</td>\n",
              "      <td>0</td>\n",
              "      <td>0</td>\n",
              "      <td>0</td>\n",
              "      <td>0</td>\n",
              "      <td>0</td>\n",
              "      <td>0</td>\n",
              "      <td>0</td>\n",
              "      <td>0</td>\n",
              "      <td>0</td>\n",
              "      <td>0</td>\n",
              "      <td>0</td>\n",
              "      <td>0</td>\n",
              "      <td>0</td>\n",
              "      <td>0</td>\n",
              "      <td>0</td>\n",
              "      <td>0</td>\n",
              "      <td>0</td>\n",
              "      <td>0</td>\n",
              "      <td>0</td>\n",
              "      <td>0</td>\n",
              "      <td>0</td>\n",
              "      <td>0</td>\n",
              "      <td>...</td>\n",
              "      <td>0</td>\n",
              "      <td>0</td>\n",
              "      <td>0</td>\n",
              "      <td>0</td>\n",
              "      <td>0</td>\n",
              "      <td>0</td>\n",
              "      <td>0</td>\n",
              "      <td>0</td>\n",
              "      <td>0</td>\n",
              "      <td>0</td>\n",
              "      <td>0</td>\n",
              "      <td>0</td>\n",
              "      <td>0</td>\n",
              "      <td>0</td>\n",
              "      <td>0</td>\n",
              "      <td>0</td>\n",
              "      <td>0</td>\n",
              "      <td>0</td>\n",
              "      <td>0</td>\n",
              "      <td>0</td>\n",
              "      <td>0</td>\n",
              "      <td>0</td>\n",
              "      <td>0</td>\n",
              "      <td>0</td>\n",
              "      <td>0</td>\n",
              "      <td>0</td>\n",
              "      <td>0</td>\n",
              "      <td>0</td>\n",
              "      <td>0</td>\n",
              "      <td>0</td>\n",
              "      <td>0</td>\n",
              "      <td>0</td>\n",
              "      <td>0</td>\n",
              "      <td>0</td>\n",
              "      <td>0</td>\n",
              "      <td>0</td>\n",
              "      <td>0</td>\n",
              "      <td>0</td>\n",
              "      <td>0</td>\n",
              "      <td>0</td>\n",
              "    </tr>\n",
              "    <tr>\n",
              "      <th>4</th>\n",
              "      <td>0</td>\n",
              "      <td>0</td>\n",
              "      <td>0</td>\n",
              "      <td>0</td>\n",
              "      <td>0</td>\n",
              "      <td>0</td>\n",
              "      <td>0</td>\n",
              "      <td>0</td>\n",
              "      <td>0</td>\n",
              "      <td>0</td>\n",
              "      <td>0</td>\n",
              "      <td>0</td>\n",
              "      <td>0</td>\n",
              "      <td>0</td>\n",
              "      <td>0</td>\n",
              "      <td>0</td>\n",
              "      <td>0</td>\n",
              "      <td>0</td>\n",
              "      <td>0</td>\n",
              "      <td>0</td>\n",
              "      <td>0</td>\n",
              "      <td>0</td>\n",
              "      <td>0</td>\n",
              "      <td>0</td>\n",
              "      <td>0</td>\n",
              "      <td>0</td>\n",
              "      <td>0</td>\n",
              "      <td>0</td>\n",
              "      <td>0</td>\n",
              "      <td>0</td>\n",
              "      <td>0</td>\n",
              "      <td>0</td>\n",
              "      <td>0</td>\n",
              "      <td>0</td>\n",
              "      <td>0</td>\n",
              "      <td>0</td>\n",
              "      <td>0</td>\n",
              "      <td>0</td>\n",
              "      <td>0</td>\n",
              "      <td>0</td>\n",
              "      <td>...</td>\n",
              "      <td>0</td>\n",
              "      <td>0</td>\n",
              "      <td>0</td>\n",
              "      <td>0</td>\n",
              "      <td>0</td>\n",
              "      <td>0</td>\n",
              "      <td>0</td>\n",
              "      <td>0</td>\n",
              "      <td>0</td>\n",
              "      <td>0</td>\n",
              "      <td>0</td>\n",
              "      <td>0</td>\n",
              "      <td>0</td>\n",
              "      <td>0</td>\n",
              "      <td>0</td>\n",
              "      <td>0</td>\n",
              "      <td>0</td>\n",
              "      <td>0</td>\n",
              "      <td>0</td>\n",
              "      <td>0</td>\n",
              "      <td>0</td>\n",
              "      <td>0</td>\n",
              "      <td>0</td>\n",
              "      <td>0</td>\n",
              "      <td>0</td>\n",
              "      <td>0</td>\n",
              "      <td>0</td>\n",
              "      <td>0</td>\n",
              "      <td>0</td>\n",
              "      <td>0</td>\n",
              "      <td>0</td>\n",
              "      <td>0</td>\n",
              "      <td>0</td>\n",
              "      <td>0</td>\n",
              "      <td>0</td>\n",
              "      <td>0</td>\n",
              "      <td>0</td>\n",
              "      <td>0</td>\n",
              "      <td>0</td>\n",
              "      <td>0</td>\n",
              "    </tr>\n",
              "  </tbody>\n",
              "</table>\n",
              "<p>5 rows × 56922 columns</p>\n",
              "</div>"
            ],
            "text/plain": [
              "   00  000  0000  00000031  000035  00006  ...  ما  محاولات  من  هذا  والمرضى  ยงade\n",
              "0   0    0     0         0       0      0  ...   0        0   0    0        0      0\n",
              "1   0    0     0         0       0      0  ...   0        0   0    0        0      0\n",
              "2   0    0     0         0       0      0  ...   0        0   0    0        0      0\n",
              "3   0    0     0         0       0      0  ...   0        0   0    0        0      0\n",
              "4   0    0     0         0       0      0  ...   0        0   0    0        0      0\n",
              "\n",
              "[5 rows x 56922 columns]"
            ]
          },
          "metadata": {
            "tags": []
          },
          "execution_count": 17
        }
      ]
    },
    {
      "cell_type": "markdown",
      "metadata": {
        "id": "zW4aspVcn5f8"
      },
      "source": [
        "### 5. Modelo\r\n",
        "El modelo que utilizaremos para predecir será: **Naïve Bayes**.\r\n",
        "Para esto, nos apoyaremos en una función pre-construida por Scikit-Learn, la cual nos ayudará a graficar las matrices de confusión que obtengamos de nuestros modelos"
      ]
    },
    {
      "cell_type": "code",
      "metadata": {
        "id": "a_nLpcGg-oUF"
      },
      "source": [
        "def plot_confusion_matrix(cm, classes,\r\n",
        "                          normalize=False,\r\n",
        "                          title='Confusion matrix',\r\n",
        "                          cmap=plt.cm.Blues):\r\n",
        "\r\n",
        "    plt.imshow(cm, interpolation='nearest', cmap=cmap)\r\n",
        "    plt.title(title)\r\n",
        "    plt.colorbar()\r\n",
        "    tick_marks = np.arange(len(classes))\r\n",
        "    plt.xticks(tick_marks, classes, rotation=45)\r\n",
        "    plt.yticks(tick_marks, classes)\r\n",
        "\r\n",
        "    if normalize:\r\n",
        "        cm = cm.astype('float') / cm.sum(axis=1)[:, np.newaxis]\r\n",
        "        print(\"Normalized confusion matrix\")\r\n",
        "    else:\r\n",
        "        print('Confusion matrix, without normalization')\r\n",
        "\r\n",
        "    thresh = cm.max() / 2.\r\n",
        "    for i, j in itertools.product(range(cm.shape[0]), range(cm.shape[1])):\r\n",
        "        plt.text(j, i, cm[i, j],\r\n",
        "                 horizontalalignment=\"center\",\r\n",
        "                 color=\"white\" if cm[i, j] > thresh else \"black\")\r\n",
        "\r\n",
        "    plt.tight_layout()\r\n",
        "    plt.ylabel('True label')\r\n",
        "    plt.xlabel('Predicted label')"
      ],
      "execution_count": 18,
      "outputs": []
    },
    {
      "cell_type": "markdown",
      "metadata": {
        "id": "g2NWzNKlopCa"
      },
      "source": [
        "#### 5.1 Naïve Bayes & Tf-idf\r\n",
        "\r\n",
        "Ahora definiremos una \"*linea de ensamblaje*\", la cual contendra la inicialización del clasificador, así como el modelo que contruimos de Tf-idf"
      ]
    },
    {
      "cell_type": "code",
      "metadata": {
        "id": "ymavvRQcocki"
      },
      "source": [
        "nbPipe = Pipeline([\r\n",
        "                   ('nbTfidf', tfidfVec),\r\n",
        "                   ('nbClf', MultinomialNB())\r\n",
        "])"
      ],
      "execution_count": 19,
      "outputs": []
    },
    {
      "cell_type": "markdown",
      "metadata": {
        "id": "m-gnMhgUpWdy"
      },
      "source": [
        "Ajustaremos el clasificador al conjunto de entrenamiento que generamos, como se muestra a continuación"
      ]
    },
    {
      "cell_type": "code",
      "metadata": {
        "colab": {
          "base_uri": "https://localhost:8080/"
        },
        "id": "BCg0g6oapVxF",
        "outputId": "c9f9c9fd-964e-4939-a09c-88f111b3703d"
      },
      "source": [
        "nbPipe.fit(X_train, y_train)"
      ],
      "execution_count": 20,
      "outputs": [
        {
          "output_type": "execute_result",
          "data": {
            "text/plain": [
              "Pipeline(memory=None,\n",
              "         steps=[('nbTfidf',\n",
              "                 TfidfVectorizer(analyzer='word', binary=False,\n",
              "                                 decode_error='strict',\n",
              "                                 dtype=<class 'numpy.float64'>,\n",
              "                                 encoding='utf-8', input='content',\n",
              "                                 lowercase=True, max_df=0.7, max_features=None,\n",
              "                                 min_df=1, ngram_range=(1, 1), norm='l2',\n",
              "                                 preprocessor=None, smooth_idf=True,\n",
              "                                 stop_words='english', strip_accents=None,\n",
              "                                 sublinear_tf=False,\n",
              "                                 token_pattern='(?u)\\\\b\\\\w\\\\w+\\\\b',\n",
              "                                 tokenizer=None, use_idf=True,\n",
              "                                 vocabulary=None)),\n",
              "                ('nbClf',\n",
              "                 MultinomialNB(alpha=1.0, class_prior=None, fit_prior=True))],\n",
              "         verbose=False)"
            ]
          },
          "metadata": {
            "tags": []
          },
          "execution_count": 20
        }
      ]
    },
    {
      "cell_type": "markdown",
      "metadata": {
        "id": "zbrAHqB-pmmj"
      },
      "source": [
        "Realizaremos la predicción para el conjunto de pruebas"
      ]
    },
    {
      "cell_type": "code",
      "metadata": {
        "id": "etqf4fH3pUyp"
      },
      "source": [
        "predictedNbPipe = nbPipe.predict(X_test)"
      ],
      "execution_count": 21,
      "outputs": []
    },
    {
      "cell_type": "markdown",
      "metadata": {
        "id": "zDm6D2u3p5F-"
      },
      "source": [
        "Calcularemos algunas de las metricas que tenemos disponibles, estas son las siguientes:\r\n",
        "\r\n",
        "\r\n",
        "\r\n",
        "*   Efectividad\r\n",
        "*   Reporte de clasificación\r\n",
        "*   Matriz de confusión\r\n",
        "\r\n"
      ]
    },
    {
      "cell_type": "code",
      "metadata": {
        "colab": {
          "base_uri": "https://localhost:8080/"
        },
        "id": "xQqdknZHp3cf",
        "outputId": "91c0ea9f-0eaa-4e73-bb55-d973051c0fb9"
      },
      "source": [
        "score = accuracy_score(y_test, predictedNbPipe)\r\n",
        "print(\"Accuracy: {}%\".format(round(score*100, 2)))"
      ],
      "execution_count": 22,
      "outputs": [
        {
          "output_type": "stream",
          "text": [
            "Accuracy: 85.65%\n"
          ],
          "name": "stdout"
        }
      ]
    },
    {
      "cell_type": "code",
      "metadata": {
        "colab": {
          "base_uri": "https://localhost:8080/"
        },
        "id": "AsQGt2BgqXX0",
        "outputId": "77e7e02a-fb44-4120-d9f9-7d7b1eb336c1"
      },
      "source": [
        "print(classification_report(y_test, predictedNbPipe))"
      ],
      "execution_count": 23,
      "outputs": [
        {
          "output_type": "stream",
          "text": [
            "              precision    recall  f1-score   support\n",
            "\n",
            "        FAKE       0.96      0.73      0.83      1008\n",
            "        REAL       0.80      0.97      0.88      1083\n",
            "\n",
            "    accuracy                           0.86      2091\n",
            "   macro avg       0.88      0.85      0.85      2091\n",
            "weighted avg       0.88      0.86      0.85      2091\n",
            "\n"
          ],
          "name": "stdout"
        }
      ]
    },
    {
      "cell_type": "code",
      "metadata": {
        "colab": {
          "base_uri": "https://localhost:8080/",
          "height": 328
        },
        "id": "0x80SUKuqdES",
        "outputId": "e379080e-22d3-4a36-b456-8efe14d03cd9"
      },
      "source": [
        "# Calculo de la matriz de confusion\r\n",
        "confMatrix = confusion_matrix(y_test, predictedNbPipe, labels=['FAKE', 'REAL'])\r\n",
        "# Graficar la matriz de confusion\r\n",
        "plot_confusion_matrix(confMatrix, classes=['FAKE', 'REAL'])"
      ],
      "execution_count": 24,
      "outputs": [
        {
          "output_type": "stream",
          "text": [
            "Confusion matrix, without normalization\n"
          ],
          "name": "stdout"
        },
        {
          "output_type": "display_data",
          "data": {
            "image/png": "[encoded data removed]",
            "text/plain": [
              "<Figure size 432x288 with 2 Axes>"
            ]
          },
          "metadata": {
            "tags": [],
            "needs_background": "light"
          }
        }
      ]
    },
    {
      "cell_type": "markdown",
      "metadata": {
        "id": "oI4vlwDsrD30"
      },
      "source": [
        "#### 5.2 Naïve Bayes & CountVectorizer\r\n",
        "\r\n",
        "Ahora nuestra \"*línea de ensamblaje*\" tendrá el modelo que construimos de CountVectorizer, por lo que realizaremos los mismos pasos que hicimos para el clasificador de Tf-idf."
      ]
    },
    {
      "cell_type": "code",
      "metadata": {
        "id": "OaiSplZ4q2vq"
      },
      "source": [
        "nbPipe_ = Pipeline([\r\n",
        "                    ('nbCountVec', countVec),\r\n",
        "                    ('nbClf', MultinomialNB())\r\n",
        "])"
      ],
      "execution_count": 25,
      "outputs": []
    },
    {
      "cell_type": "code",
      "metadata": {
        "colab": {
          "base_uri": "https://localhost:8080/"
        },
        "id": "qYq0XUSCroGW",
        "outputId": "d02fe221-1b46-4161-9d44-4c15e9e95248"
      },
      "source": [
        "nbPipe_.fit(X_train, y_train)"
      ],
      "execution_count": 26,
      "outputs": [
        {
          "output_type": "execute_result",
          "data": {
            "text/plain": [
              "Pipeline(memory=None,\n",
              "         steps=[('nbCountVec',\n",
              "                 CountVectorizer(analyzer='word', binary=False,\n",
              "                                 decode_error='strict',\n",
              "                                 dtype=<class 'numpy.int64'>, encoding='utf-8',\n",
              "                                 input='content', lowercase=True, max_df=1.0,\n",
              "                                 max_features=None, min_df=1,\n",
              "                                 ngram_range=(1, 1), preprocessor=None,\n",
              "                                 stop_words='english', strip_accents=None,\n",
              "                                 token_pattern='(?u)\\\\b\\\\w\\\\w+\\\\b',\n",
              "                                 tokenizer=None, vocabulary=None)),\n",
              "                ('nbClf',\n",
              "                 MultinomialNB(alpha=1.0, class_prior=None, fit_prior=True))],\n",
              "         verbose=False)"
            ]
          },
          "metadata": {
            "tags": []
          },
          "execution_count": 26
        }
      ]
    },
    {
      "cell_type": "code",
      "metadata": {
        "id": "3ugf2Apur2pv"
      },
      "source": [
        "predictedNbPipe_ = nbPipe_.predict(X_test)"
      ],
      "execution_count": 27,
      "outputs": []
    },
    {
      "cell_type": "code",
      "metadata": {
        "colab": {
          "base_uri": "https://localhost:8080/"
        },
        "id": "jzWnG-a_r6lJ",
        "outputId": "e52475e5-d44c-4f74-d41d-d17ecb2e10bb"
      },
      "source": [
        "score = accuracy_score(y_test, predictedNbPipe_)\r\n",
        "print(\"Accuracy: {}%\".format(round(score*100, 2)))"
      ],
      "execution_count": 28,
      "outputs": [
        {
          "output_type": "stream",
          "text": [
            "Accuracy: 89.34%\n"
          ],
          "name": "stdout"
        }
      ]
    },
    {
      "cell_type": "code",
      "metadata": {
        "colab": {
          "base_uri": "https://localhost:8080/"
        },
        "id": "qGKw1q6Cr-Mx",
        "outputId": "854d5c9b-b683-4af3-ec8d-ea820731f471"
      },
      "source": [
        "print(classification_report(y_test, predictedNbPipe_))"
      ],
      "execution_count": 29,
      "outputs": [
        {
          "output_type": "stream",
          "text": [
            "              precision    recall  f1-score   support\n",
            "\n",
            "        FAKE       0.92      0.86      0.89      1008\n",
            "        REAL       0.88      0.93      0.90      1083\n",
            "\n",
            "    accuracy                           0.89      2091\n",
            "   macro avg       0.90      0.89      0.89      2091\n",
            "weighted avg       0.89      0.89      0.89      2091\n",
            "\n"
          ],
          "name": "stdout"
        }
      ]
    },
    {
      "cell_type": "code",
      "metadata": {
        "colab": {
          "base_uri": "https://localhost:8080/",
          "height": 328
        },
        "id": "PBCs5-tTsDTB",
        "outputId": "4137b908-5cdc-41dc-fbd6-576800d8ecbc"
      },
      "source": [
        "# Calculo de la matriz de confusion\r\n",
        "confMatrix_ = confusion_matrix(y_test, predictedNbPipe_, labels=['FAKE', 'REAL'])\r\n",
        "# Graficar la matriz de confusion\r\n",
        "plot_confusion_matrix(confMatrix_, classes=['FAKE', 'REAL'])"
      ],
      "execution_count": 30,
      "outputs": [
        {
          "output_type": "stream",
          "text": [
            "Confusion matrix, without normalization\n"
          ],
          "name": "stdout"
        },
        {
          "output_type": "display_data",
          "data": {
            "image/png": "[encoded data removed]",
            "text/plain": [
              "<Figure size 432x288 with 2 Axes>"
            ]
          },
          "metadata": {
            "tags": [],
            "needs_background": "light"
          }
        }
      ]
    },
    {
      "cell_type": "markdown",
      "metadata": {
        "id": "A30nfD_5sP-0"
      },
      "source": [
        "#### 5.3 Passive Agressive"
      ]
    },
    {
      "cell_type": "code",
      "metadata": {
        "id": "pt4u577CsI_q"
      },
      "source": [
        "paPipe = Pipeline([\r\n",
        "                   ('linearModel', tfidfVec),\r\n",
        "                   ('paClf', PassiveAggressiveClassifier(max_iter=50))\r\n",
        "])"
      ],
      "execution_count": 31,
      "outputs": []
    },
    {
      "cell_type": "code",
      "metadata": {
        "colab": {
          "base_uri": "https://localhost:8080/"
        },
        "id": "Wzho_g1asqQT",
        "outputId": "2f678963-b57c-4157-df00-4905a0eb571c"
      },
      "source": [
        "paPipe.fit(X_train, y_train)"
      ],
      "execution_count": 32,
      "outputs": [
        {
          "output_type": "execute_result",
          "data": {
            "text/plain": [
              "Pipeline(memory=None,\n",
              "         steps=[('linearModel',\n",
              "                 TfidfVectorizer(analyzer='word', binary=False,\n",
              "                                 decode_error='strict',\n",
              "                                 dtype=<class 'numpy.float64'>,\n",
              "                                 encoding='utf-8', input='content',\n",
              "                                 lowercase=True, max_df=0.7, max_features=None,\n",
              "                                 min_df=1, ngram_range=(1, 1), norm='l2',\n",
              "                                 preprocessor=None, smooth_idf=True,\n",
              "                                 stop_words='english', strip_accents=None,\n",
              "                                 sublinear_tf=False,\n",
              "                                 toke...ern='(?u)\\\\b\\\\w\\\\w+\\\\b',\n",
              "                                 tokenizer=None, use_idf=True,\n",
              "                                 vocabulary=None)),\n",
              "                ('paClf',\n",
              "                 PassiveAggressiveClassifier(C=1.0, average=False,\n",
              "                                             class_weight=None,\n",
              "                                             early_stopping=False,\n",
              "                                             fit_intercept=True, loss='hinge',\n",
              "                                             max_iter=50, n_iter_no_change=5,\n",
              "                                             n_jobs=None, random_state=None,\n",
              "                                             shuffle=True, tol=0.001,\n",
              "                                             validation_fraction=0.1, verbose=0,\n",
              "                                             warm_start=False))],\n",
              "         verbose=False)"
            ]
          },
          "metadata": {
            "tags": []
          },
          "execution_count": 32
        }
      ]
    },
    {
      "cell_type": "code",
      "metadata": {
        "id": "AAIR89zTstW4"
      },
      "source": [
        "predictedPA = paPipe.predict(X_test)"
      ],
      "execution_count": 33,
      "outputs": []
    },
    {
      "cell_type": "code",
      "metadata": {
        "colab": {
          "base_uri": "https://localhost:8080/"
        },
        "id": "EZuRJkYPs3yA",
        "outputId": "70f0fc7f-aa84-47f6-a9e6-1bf78c0455ed"
      },
      "source": [
        "score = accuracy_score(y_test, predictedPA)\r\n",
        "print(\"Accuracy: {}%\".format(round(score*100, 2)))"
      ],
      "execution_count": 34,
      "outputs": [
        {
          "output_type": "stream",
          "text": [
            "Accuracy: 93.21%\n"
          ],
          "name": "stdout"
        }
      ]
    },
    {
      "cell_type": "code",
      "metadata": {
        "colab": {
          "base_uri": "https://localhost:8080/"
        },
        "id": "HK93Hc2Is8V1",
        "outputId": "3dd50deb-8afc-4b1a-865f-6890f41671e3"
      },
      "source": [
        "print(classification_report(y_test, predictedPA))"
      ],
      "execution_count": 35,
      "outputs": [
        {
          "output_type": "stream",
          "text": [
            "              precision    recall  f1-score   support\n",
            "\n",
            "        FAKE       0.92      0.94      0.93      1008\n",
            "        REAL       0.95      0.92      0.93      1083\n",
            "\n",
            "    accuracy                           0.93      2091\n",
            "   macro avg       0.93      0.93      0.93      2091\n",
            "weighted avg       0.93      0.93      0.93      2091\n",
            "\n"
          ],
          "name": "stdout"
        }
      ]
    },
    {
      "cell_type": "code",
      "metadata": {
        "colab": {
          "base_uri": "https://localhost:8080/",
          "height": 328
        },
        "id": "AETFMwBMs_0B",
        "outputId": "18d3e026-499f-4126-f29c-83c1e4316cf3"
      },
      "source": [
        "# Calculo de la matriz de confusion\r\n",
        "cmPA = confusion_matrix(y_test, predictedPA, labels=['FAKE', 'REAL'])\r\n",
        "# Graficar la matriz de confusion\r\n",
        "plot_confusion_matrix(cmPA, classes=['FAKE', 'REAL'])"
      ],
      "execution_count": 36,
      "outputs": [
        {
          "output_type": "stream",
          "text": [
            "Confusion matrix, without normalization\n"
          ],
          "name": "stdout"
        },
        {
          "output_type": "display_data",
          "data": {
            "image/png": "[encoded data removed]",
            "text/plain": [
              "<Figure size 432x288 with 2 Axes>"
            ]
          },
          "metadata": {
            "tags": [],
            "needs_background": "light"
          }
        }
      ]
    },
    {
      "cell_type": "markdown",
      "metadata": {
        "id": "MdA_KZ_HtOih"
      },
      "source": [
        "### 6. Importando el modelo"
      ]
    },
    {
      "cell_type": "code",
      "metadata": {
        "id": "E9w0JMBDtG95"
      },
      "source": [
        "pickle_out = open(\"/content/drive/MyDrive/models/passiveAgressiveModel.sav\",\"wb\")\r\n",
        "pickle.dump(paPipe, pickle_out)\r\n",
        "pickle_out.close()"
      ],
      "execution_count": 37,
      "outputs": []
    }
  ]
}