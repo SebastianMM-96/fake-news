{
 "metadata": {
  "language_info": {
   "codemirror_mode": {
    "name": "ipython",
    "version": 3
   },
   "file_extension": ".py",
   "mimetype": "text/x-python",
   "name": "python",
   "nbconvert_exporter": "python",
   "pygments_lexer": "ipython3",
   "version": "3.8.5-final"
  },
  "orig_nbformat": 2,
  "kernelspec": {
   "name": "python3",
   "display_name": "Python 3"
  }
 },
 "nbformat": 4,
 "nbformat_minor": 2,
 "cells": [
  {
   "source": [
    "# EDA (Exploratory data analysis)\n",
    "## For \"Fake News\" dataset\n",
    "### Developed by: Sebastián Marroquín\n",
    "\n",
    "***\n",
    "\n",
    "### Tasks to do\n",
    "\n",
    "1. Import the necessary libraries\n",
    "2. Load the dataset\n",
    "    - Verify if the data contained in the data set are necessary to perform an analysis, if not, correct them.\n",
    "3. Obtain and visualize the different types of news contained within the data set\n",
    "    - Graph these types of news\n",
    "4. WordCloud\n",
    "\n"
   ],
   "cell_type": "markdown",
   "metadata": {}
  },
  {
   "cell_type": "code",
   "execution_count": null,
   "metadata": {},
   "outputs": [],
   "source": []
  }
 ]
}