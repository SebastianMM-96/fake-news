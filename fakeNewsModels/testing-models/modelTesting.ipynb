{
 "metadata": {
  "language_info": {
   "codemirror_mode": {
    "name": "ipython",
    "version": 3
   },
   "file_extension": ".py",
   "mimetype": "text/x-python",
   "name": "python",
   "nbconvert_exporter": "python",
   "pygments_lexer": "ipython3",
   "version": "3.8.5-final"
  },
  "orig_nbformat": 2,
  "kernelspec": {
   "name": "python3",
   "display_name": "Python 3",
   "language": "python"
  }
 },
 "nbformat": 4,
 "nbformat_minor": 2,
 "cells": [
  {
   "source": [
    "# Testing model\n",
    "### Developed by: Sebastián Marroquín\n",
    "\n",
    "The objective of this function is to test the automatic learning models that are generated from the algorithms that are implemented"
   ],
   "cell_type": "markdown",
   "metadata": {}
  },
  {
   "cell_type": "code",
   "execution_count": 1,
   "metadata": {},
   "outputs": [],
   "source": [
    "import pickle"
   ]
  },
  {
   "cell_type": "code",
   "execution_count": 2,
   "metadata": {},
   "outputs": [
    {
     "output_type": "stream",
     "name": "stdout",
     "text": [
      "The news is: REAL\n"
     ]
    }
   ],
   "source": [
    "news = input('Enter a news text to classify: \\n')\n",
    "\n",
    "def classFakeNews(news):\n",
    "    # Using the model\n",
    "    loadModel = pickle.load(open('passiveAgressiveModel.pkl', 'rb'))\n",
    "    prediction = loadModel.predict([news])\n",
    "\n",
    "    return(print('The news is: {}'.format(prediction[0])))\n",
    "\n",
    "if __name__ == \"__main__\":\n",
    "    classFakeNews(news)"
   ]
  }
 ]
}